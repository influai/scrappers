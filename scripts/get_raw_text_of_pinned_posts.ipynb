{
 "cells": [
  {
   "cell_type": "markdown",
   "metadata": {},
   "source": [
    "## Set up TG clients"
   ]
  },
  {
   "cell_type": "code",
   "execution_count": 1,
   "metadata": {},
   "outputs": [],
   "source": [
    "import os\n",
    "\n",
    "from dotenv import load_dotenv\n",
    "from telethon import TelegramClient, functions\n",
    "from telethon.sessions import StringSession\n"
   ]
  },
  {
   "cell_type": "code",
   "execution_count": 2,
   "metadata": {},
   "outputs": [],
   "source": [
    "scrapers_creds = []\n",
    "\n",
    "for i in range(1, 8):\n",
    "    load_dotenv(f\"../creds/scraper{i}.env\", override=True)\n",
    "    scrapers_creds.append(\n",
    "        {\n",
    "            \"session\": StringSession(os.getenv(\"TG_SESSION\")),\n",
    "            \"api_id\": int(os.getenv(\"TG_API_ID\")),\n",
    "            \"api_hash\": os.getenv(\"TG_API_HASH\"),\n",
    "            \"device_model\": os.getenv(\"TG_DEVICE_MODEL\"),\n",
    "            \"system_version\": os.getenv(\"TG_SYSTEM_VERSION\"),\n",
    "            \"app_version\": os.getenv(\"TG_APP_VERSION\"),\n",
    "        }\n",
    "    )\n",
    "\n",
    "tg_clients = {}\n",
    "\n",
    "for creds in scrapers_creds:\n",
    "    tg_clients[creds[\"api_id\"]] = TelegramClient(**creds)\n",
    "    await tg_clients[creds[\"api_id\"]].connect()"
   ]
  },
  {
   "cell_type": "markdown",
   "metadata": {},
   "source": [
    "## Get channels"
   ]
  },
  {
   "cell_type": "code",
   "execution_count": 3,
   "metadata": {},
   "outputs": [],
   "source": [
    "import sys\n",
    "\n",
    "sys.path.insert(0, \"../scraper/\")"
   ]
  },
  {
   "cell_type": "code",
   "execution_count": 4,
   "metadata": {},
   "outputs": [
    {
     "data": {
      "text/plain": [
       "True"
      ]
     },
     "execution_count": 4,
     "metadata": {},
     "output_type": "execute_result"
    }
   ],
   "source": [
    "load_dotenv(\"../creds/db.env\", override=True)"
   ]
  },
  {
   "cell_type": "code",
   "execution_count": 5,
   "metadata": {},
   "outputs": [],
   "source": [
    "from database.database import (\n",
    "    Channels,\n",
    "    Peers,\n",
    ")\n",
    "from database.session import get_database_session\n",
    "from sqlalchemy import select\n",
    "from telethon.types import InputPeerChannel\n",
    "from tqdm import tqdm\n"
   ]
  },
  {
   "cell_type": "code",
   "execution_count": 8,
   "metadata": {},
   "outputs": [
    {
     "data": {
      "text/plain": [
       "26782"
      ]
     },
     "execution_count": 8,
     "metadata": {},
     "output_type": "execute_result"
    }
   ],
   "source": [
    "# Get channels_id list\n",
    "with get_database_session() as db_session:\n",
    "    result = db_session.execute(select(Channels.id))\n",
    "    ch_ids = result.all()\n",
    "\n",
    "ch_ids = [i[0] for i in ch_ids]\n",
    "len(ch_ids)"
   ]
  },
  {
   "cell_type": "markdown",
   "metadata": {},
   "source": [
    "## Scrape pinned messages"
   ]
  },
  {
   "cell_type": "code",
   "execution_count": 11,
   "metadata": {},
   "outputs": [],
   "source": [
    "ch_id_to_pinned_text = {}"
   ]
  },
  {
   "cell_type": "code",
   "execution_count": null,
   "metadata": {},
   "outputs": [],
   "source": [
    "for i in tqdm(ch_ids[:100]):\n",
    "    channel = None  # Channel peer will be stored here\n",
    "    tg_client = None  # Telegram client will be stored here, picked by scraper_id\n",
    "\n",
    "    try:\n",
    "        # Get channel peer, corresponding to the channel id and pick matching scraper (tg_client)\n",
    "        with get_database_session() as db_session:\n",
    "            result = db_session.execute(select(Peers).where(Peers.channel_id == i))\n",
    "            peer = result.scalars().all()\n",
    "\n",
    "            if not peer:\n",
    "                continue\n",
    "\n",
    "            channel = InputPeerChannel(channel_id=peer.channel_id, access_hash=peer.access_hash)\n",
    "            tg_client = tg_clients[peer.scraper_id]\n",
    "\n",
    "        full = await tg_client(functions.channels.GetFullChannelRequest(channel))\n",
    "\n",
    "        pinned_id = full.full_chat.pinned_msg_id\n",
    "        if not pinned_id:\n",
    "            continue\n",
    "\n",
    "        async for post in tg_client.iter_messages(entity=channel, limit=1, ids=pinned_id):\n",
    "            if post:\n",
    "                # Save to dict\n",
    "                ch_id_to_pinned_text[i] = post.raw_text\n",
    "\n",
    "    except Exception as e:\n",
    "        print(f\"Error while trying to scrape pinned message from {i}\")\n",
    "        print(e)\n",
    "        continue"
   ]
  },
  {
   "cell_type": "code",
   "execution_count": 20,
   "metadata": {},
   "outputs": [],
   "source": [
    "import pickle\n",
    "\n",
    "with open(\"/home/deniskirbaba/Documents/influai-data/pinned_raw_texts.pkl\", \"wb\") as f:\n",
    "    pickle.dump(ch_id_to_pinned_text, f)"
   ]
  }
 ],
 "metadata": {
  "kernelspec": {
   "display_name": "scraper-v2",
   "language": "python",
   "name": "python3"
  },
  "language_info": {
   "codemirror_mode": {
    "name": "ipython",
    "version": 3
   },
   "file_extension": ".py",
   "mimetype": "text/x-python",
   "name": "python",
   "nbconvert_exporter": "python",
   "pygments_lexer": "ipython3",
   "version": "3.12.7"
  }
 },
 "nbformat": 4,
 "nbformat_minor": 2
}
