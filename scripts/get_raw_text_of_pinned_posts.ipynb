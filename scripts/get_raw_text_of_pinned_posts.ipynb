{
 "cells": [
  {
   "cell_type": "markdown",
   "metadata": {},
   "source": [
    "## Set up TG clients"
   ]
  },
  {
   "cell_type": "code",
   "execution_count": 1,
   "metadata": {},
   "outputs": [],
   "source": [
    "import os\n",
    "\n",
    "from dotenv import load_dotenv\n",
    "from telethon import TelegramClient, functions\n",
    "from telethon.sessions import StringSession\n"
   ]
  },
  {
   "cell_type": "code",
   "execution_count": 2,
   "metadata": {},
   "outputs": [],
   "source": [
    "scrapers_creds = []\n",
    "\n",
    "for i in range(1, 8):\n",
    "    load_dotenv(f\"../creds/scraper{i}.env\", override=True)\n",
    "    scrapers_creds.append(\n",
    "        {\n",
    "            \"session\": StringSession(os.getenv(\"TG_SESSION\")),\n",
    "            \"api_id\": int(os.getenv(\"TG_API_ID\")),\n",
    "            \"api_hash\": os.getenv(\"TG_API_HASH\"),\n",
    "            \"device_model\": os.getenv(\"TG_DEVICE_MODEL\"),\n",
    "            \"system_version\": os.getenv(\"TG_SYSTEM_VERSION\"),\n",
    "            \"app_version\": os.getenv(\"TG_APP_VERSION\"),\n",
    "        }\n",
    "    )\n",
    "\n",
    "tg_clients = {}\n",
    "\n",
    "for creds in scrapers_creds:\n",
    "    tg_clients[creds[\"api_id\"]] = TelegramClient(**creds)\n",
    "    await tg_clients[creds[\"api_id\"]].connect()"
   ]
  },
  {
   "cell_type": "markdown",
   "metadata": {},
   "source": [
    "## Get channels"
   ]
  },
  {
   "cell_type": "code",
   "execution_count": 3,
   "metadata": {},
   "outputs": [],
   "source": [
    "import sys\n",
    "\n",
    "sys.path.insert(0, \"../scraper/\")"
   ]
  },
  {
   "cell_type": "code",
   "execution_count": 4,
   "metadata": {},
   "outputs": [
    {
     "data": {
      "text/plain": [
       "True"
      ]
     },
     "execution_count": 4,
     "metadata": {},
     "output_type": "execute_result"
    }
   ],
   "source": [
    "load_dotenv(\"../creds/db.env\", override=True)"
   ]
  },
  {
   "cell_type": "code",
   "execution_count": 5,
   "metadata": {},
   "outputs": [],
   "source": [
    "from database.database import (\n",
    "    Channels,\n",
    "    Peers,\n",
    ")\n",
    "from database.session import get_database_session\n",
    "from sqlalchemy import select\n",
    "from telethon.errors import FloodWaitError\n",
    "from telethon.types import InputPeerChannel\n",
    "from tqdm import tqdm"
   ]
  },
  {
   "cell_type": "code",
   "execution_count": 6,
   "metadata": {},
   "outputs": [
    {
     "data": {
      "text/plain": [
       "26782"
      ]
     },
     "execution_count": 6,
     "metadata": {},
     "output_type": "execute_result"
    }
   ],
   "source": [
    "# Get channels_id list\n",
    "with get_database_session() as db_session:\n",
    "    result = db_session.execute(select(Channels.id, Channels.name))\n",
    "    chs = result.all()\n",
    "\n",
    "len(chs)"
   ]
  },
  {
   "cell_type": "markdown",
   "metadata": {},
   "source": [
    "## Scrape pinned messages"
   ]
  },
  {
   "cell_type": "code",
   "execution_count": 7,
   "metadata": {},
   "outputs": [],
   "source": [
    "ch_id_to_pinned_text = {}"
   ]
  },
  {
   "cell_type": "code",
   "execution_count": 8,
   "metadata": {},
   "outputs": [
    {
     "name": "stderr",
     "output_type": "stream",
     "text": [
      "  0%|          | 0/26782 [00:00<?, ?it/s]"
     ]
    },
    {
     "name": "stderr",
     "output_type": "stream",
     "text": [
      "  0%|          | 2/26782 [00:00<2:51:30,  2.60it/s]"
     ]
    },
    {
     "name": "stdout",
     "output_type": "stream",
     "text": [
      "Error while trying to scrape pinned message from 2293523024\n",
      "The channel specified is private and you lack permission to access it. Another reason may be that you were banned from it (caused by GetFullChannelRequest)\n",
      "Error while trying to scrape pinned message from 2065156241\n",
      "The channel specified is private and you lack permission to access it. Another reason may be that you were banned from it (caused by GetFullChannelRequest)\n"
     ]
    },
    {
     "name": "stderr",
     "output_type": "stream",
     "text": [
      "  0%|          | 3/26782 [00:01<2:02:47,  3.63it/s]"
     ]
    },
    {
     "name": "stdout",
     "output_type": "stream",
     "text": [
      "Error while trying to scrape pinned message from 1127716443\n",
      "The channel specified is private and you lack permission to access it. Another reason may be that you were banned from it (caused by GetFullChannelRequest)\n"
     ]
    },
    {
     "name": "stderr",
     "output_type": "stream",
     "text": [
      "  0%|          | 6/26782 [00:01<1:27:56,  5.07it/s]"
     ]
    },
    {
     "name": "stdout",
     "output_type": "stream",
     "text": [
      "Error while trying to scrape pinned message from 1796987148\n",
      "Invalid channel object. Make sure to pass the right types, for instance making sure that the request is designed for channels or otherwise look for a different one more suited (caused by GetFullChannelRequest)\n"
     ]
    },
    {
     "name": "stderr",
     "output_type": "stream",
     "text": [
      "  0%|          | 30/26782 [00:06<1:26:32,  5.15it/s]"
     ]
    },
    {
     "name": "stdout",
     "output_type": "stream",
     "text": [
      "Error while trying to scrape pinned message from 1758778577\n",
      "Invalid channel object. Make sure to pass the right types, for instance making sure that the request is designed for channels or otherwise look for a different one more suited (caused by GetFullChannelRequest)\n"
     ]
    },
    {
     "name": "stderr",
     "output_type": "stream",
     "text": [
      "  0%|          | 31/26782 [00:06<1:21:36,  5.46it/s]"
     ]
    },
    {
     "name": "stdout",
     "output_type": "stream",
     "text": [
      "Peer don't found for rostislav_goldshtein\n",
      "Error while trying to scrape pinned message from 1626192496\n",
      "No user has \"rostislav_goldshtein\" as username\n"
     ]
    },
    {
     "name": "stderr",
     "output_type": "stream",
     "text": [
      "  0%|          | 63/26782 [00:12<1:25:01,  5.24it/s]"
     ]
    },
    {
     "name": "stdout",
     "output_type": "stream",
     "text": [
      "Peer don't found for Moskay_Central\n",
      "Error while trying to scrape pinned message from 1554710711\n",
      "No user has \"moskay_central\" as username\n"
     ]
    },
    {
     "name": "stderr",
     "output_type": "stream",
     "text": [
      "  1%|          | 253/26782 [01:43<1:30:47,  4.87it/s] "
     ]
    },
    {
     "name": "stdout",
     "output_type": "stream",
     "text": [
      "Peer don't found for glavdoroga\n"
     ]
    },
    {
     "name": "stderr",
     "output_type": "stream",
     "text": [
      "  1%|          | 277/26782 [01:49<1:38:38,  4.48it/s]"
     ]
    },
    {
     "name": "stdout",
     "output_type": "stream",
     "text": [
      "Peer don't found for descards\n",
      "Error while trying to scrape pinned message from 1166848058\n",
      "Nobody is using this username, or the username is unacceptable. If the latter, it must match r\"[a-zA-Z][\\w\\d]{3,30}[a-zA-Z\\d]\" (caused by ResolveUsernameRequest)\n"
     ]
    },
    {
     "name": "stderr",
     "output_type": "stream",
     "text": [
      "  2%|▏         | 533/26782 [03:51<1:40:32,  4.35it/s] "
     ]
    },
    {
     "name": "stdout",
     "output_type": "stream",
     "text": [
      "Peer don't found for GARDTLandscape\n"
     ]
    },
    {
     "name": "stderr",
     "output_type": "stream",
     "text": [
      "  3%|▎         | 702/26782 [04:58<1:34:12,  4.61it/s] "
     ]
    },
    {
     "name": "stdout",
     "output_type": "stream",
     "text": [
      "Peer don't found for python_piton_javascript\n"
     ]
    },
    {
     "name": "stderr",
     "output_type": "stream",
     "text": [
      "  3%|▎         | 898/26782 [06:35<2:05:20,  3.44it/s] "
     ]
    },
    {
     "name": "stdout",
     "output_type": "stream",
     "text": [
      "Peer don't found for doctorsinev\n",
      "Error while trying to scrape pinned message from 1671694159\n",
      "Nobody is using this username, or the username is unacceptable. If the latter, it must match r\"[a-zA-Z][\\w\\d]{3,30}[a-zA-Z\\d]\" (caused by ResolveUsernameRequest)\n"
     ]
    },
    {
     "name": "stderr",
     "output_type": "stream",
     "text": [
      "  3%|▎         | 923/26782 [06:44<3:27:25,  2.08it/s]"
     ]
    },
    {
     "name": "stdout",
     "output_type": "stream",
     "text": [
      "Error while trying to scrape pinned message from 2461486643\n",
      "The channel specified is private and you lack permission to access it. Another reason may be that you were banned from it (caused by GetFullChannelRequest)\n"
     ]
    },
    {
     "name": "stderr",
     "output_type": "stream",
     "text": [
      "  4%|▍         | 1092/26782 [08:21<2:29:24,  2.87it/s] "
     ]
    },
    {
     "name": "stdout",
     "output_type": "stream",
     "text": [
      "Peer don't found for bolshie_razmery\n"
     ]
    },
    {
     "name": "stderr",
     "output_type": "stream",
     "text": [
      "  4%|▍         | 1093/26782 [08:22<2:27:35,  2.90it/s]"
     ]
    },
    {
     "name": "stdout",
     "output_type": "stream",
     "text": [
      "Error while trying to scrape pinned message from 2130652143\n",
      "No user has \"bolshie_razmery\" as username\n"
     ]
    },
    {
     "name": "stderr",
     "output_type": "stream",
     "text": [
      "  4%|▍         | 1161/26782 [08:51<1:39:09,  4.31it/s] "
     ]
    },
    {
     "name": "stdout",
     "output_type": "stream",
     "text": [
      "Peer don't found for asb_video\n"
     ]
    },
    {
     "name": "stderr",
     "output_type": "stream",
     "text": [
      "  5%|▍         | 1211/26782 [09:13<1:25:15,  5.00it/s] "
     ]
    },
    {
     "name": "stdout",
     "output_type": "stream",
     "text": [
      "Error while trying to scrape pinned message from 1143329795\n",
      "The channel specified is private and you lack permission to access it. Another reason may be that you were banned from it (caused by GetFullChannelRequest)\n"
     ]
    },
    {
     "name": "stderr",
     "output_type": "stream",
     "text": [
      "  5%|▍         | 1231/26782 [09:18<2:06:31,  3.37it/s]"
     ]
    },
    {
     "name": "stdout",
     "output_type": "stream",
     "text": [
      "Peer don't found for doctorkibisheva\n"
     ]
    },
    {
     "name": "stderr",
     "output_type": "stream",
     "text": [
      "  5%|▌         | 1398/26782 [10:19<1:40:32,  4.21it/s] "
     ]
    },
    {
     "name": "stdout",
     "output_type": "stream",
     "text": [
      "Peer don't found for activSochi33\n",
      "Error while trying to scrape pinned message from 1897834719\n",
      "No user has \"activsochi33\" as username\n"
     ]
    },
    {
     "name": "stderr",
     "output_type": "stream",
     "text": [
      "  5%|▌         | 1418/26782 [10:24<1:28:54,  4.75it/s]"
     ]
    },
    {
     "name": "stdout",
     "output_type": "stream",
     "text": [
      "Peer don't found for fontscapcutn\n",
      "Error while trying to scrape pinned message from 1893809373\n",
      "No user has \"fontscapcutn\" as username\n"
     ]
    },
    {
     "name": "stderr",
     "output_type": "stream",
     "text": [
      "  6%|▌         | 1575/26782 [11:22<1:18:27,  5.36it/s] "
     ]
    },
    {
     "name": "stdout",
     "output_type": "stream",
     "text": [
      "Error while trying to scrape pinned message from 1651751335\n",
      "The channel specified is private and you lack permission to access it. Another reason may be that you were banned from it (caused by GetFullChannelRequest)\n"
     ]
    },
    {
     "name": "stderr",
     "output_type": "stream",
     "text": [
      "  6%|▋         | 1729/26782 [12:22<2:14:29,  3.10it/s] "
     ]
    },
    {
     "name": "stdout",
     "output_type": "stream",
     "text": [
      "Error while trying to scrape pinned message from 2006805883\n",
      "The channel specified is private and you lack permission to access it. Another reason may be that you were banned from it (caused by GetFullChannelRequest)\n"
     ]
    },
    {
     "name": "stderr",
     "output_type": "stream",
     "text": [
      "  7%|▋         | 1778/26782 [12:32<1:24:31,  4.93it/s]"
     ]
    },
    {
     "name": "stdout",
     "output_type": "stream",
     "text": [
      "Peer don't found for laifkhaky_interero_remont\n"
     ]
    },
    {
     "name": "stderr",
     "output_type": "stream",
     "text": [
      "  8%|▊         | 2161/26782 [15:04<1:07:55,  6.04it/s] "
     ]
    },
    {
     "name": "stdout",
     "output_type": "stream",
     "text": [
      "Peer don't found for botwildwest\n",
      "Error while trying to scrape pinned message from 1686791296\n",
      "No user has \"botwildwest\" as username\n"
     ]
    },
    {
     "name": "stderr",
     "output_type": "stream",
     "text": [
      "  9%|▉         | 2410/26782 [17:06<4:02:24,  1.68it/s] "
     ]
    },
    {
     "name": "stdout",
     "output_type": "stream",
     "text": [
      "Error while trying to scrape pinned message from 1520090180\n",
      "The channel specified is private and you lack permission to access it. Another reason may be that you were banned from it (caused by GetFullChannelRequest)\n"
     ]
    },
    {
     "name": "stderr",
     "output_type": "stream",
     "text": [
      "  9%|▉         | 2459/26782 [17:18<1:41:12,  4.01it/s]"
     ]
    },
    {
     "name": "stdout",
     "output_type": "stream",
     "text": [
      "Peer don't found for tvoyinv\n"
     ]
    },
    {
     "name": "stderr",
     "output_type": "stream",
     "text": [
      " 10%|█         | 2744/26782 [19:04<1:10:02,  5.72it/s] "
     ]
    },
    {
     "name": "stdout",
     "output_type": "stream",
     "text": [
      "Error while trying to scrape pinned message from 1245688598\n",
      "The channel specified is private and you lack permission to access it. Another reason may be that you were banned from it (caused by GetFullChannelRequest)\n"
     ]
    },
    {
     "name": "stderr",
     "output_type": "stream",
     "text": [
      " 10%|█         | 2776/26782 [19:32<1:32:38,  4.32it/s] "
     ]
    },
    {
     "name": "stdout",
     "output_type": "stream",
     "text": [
      "Peer don't found for detymskazki\n",
      "Error while trying to scrape pinned message from 1296452391\n",
      "No user has \"detymskazki\" as username\n"
     ]
    },
    {
     "name": "stderr",
     "output_type": "stream",
     "text": [
      " 11%|█▏        | 3013/26782 [21:11<1:32:27,  4.28it/s] "
     ]
    },
    {
     "name": "stdout",
     "output_type": "stream",
     "text": [
      "Peer don't found for kimminkorea\n"
     ]
    },
    {
     "name": "stderr",
     "output_type": "stream",
     "text": [
      " 12%|█▏        | 3082/26782 [21:39<1:24:41,  4.66it/s] "
     ]
    },
    {
     "name": "stdout",
     "output_type": "stream",
     "text": [
      "Peer don't found for Groupofcompanies1520\n"
     ]
    },
    {
     "name": "stderr",
     "output_type": "stream",
     "text": [
      " 12%|█▏        | 3083/26782 [21:39<1:35:34,  4.13it/s]"
     ]
    },
    {
     "name": "stdout",
     "output_type": "stream",
     "text": [
      "Peer don't found for okoloretail\n"
     ]
    },
    {
     "name": "stderr",
     "output_type": "stream",
     "text": [
      " 12%|█▏        | 3128/26782 [21:51<2:31:35,  2.60it/s]"
     ]
    },
    {
     "name": "stdout",
     "output_type": "stream",
     "text": [
      "Peer don't found for melagnese\n"
     ]
    },
    {
     "name": "stderr",
     "output_type": "stream",
     "text": [
      " 12%|█▏        | 3316/26782 [23:18<1:48:27,  3.61it/s] "
     ]
    },
    {
     "name": "stdout",
     "output_type": "stream",
     "text": [
      "Peer don't found for MadBad_Cat\n",
      "Error while trying to scrape pinned message from 1362189546\n",
      "No user has \"madbad_cat\" as username\n"
     ]
    },
    {
     "name": "stderr",
     "output_type": "stream",
     "text": [
      " 13%|█▎        | 3445/26782 [23:58<1:18:17,  4.97it/s] "
     ]
    },
    {
     "name": "stdout",
     "output_type": "stream",
     "text": [
      "Error while trying to scrape pinned message from 1335093354\n",
      "The channel specified is private and you lack permission to access it. Another reason may be that you were banned from it (caused by GetFullChannelRequest)\n"
     ]
    },
    {
     "name": "stderr",
     "output_type": "stream",
     "text": [
      " 13%|█▎        | 3579/26782 [24:37<1:15:34,  5.12it/s] "
     ]
    },
    {
     "name": "stdout",
     "output_type": "stream",
     "text": [
      "Error while trying to scrape pinned message from 1493076835\n",
      "The channel specified is private and you lack permission to access it. Another reason may be that you were banned from it (caused by GetFullChannelRequest)\n"
     ]
    },
    {
     "name": "stderr",
     "output_type": "stream",
     "text": [
      " 14%|█▎        | 3636/26782 [25:01<1:11:23,  5.40it/s] "
     ]
    },
    {
     "name": "stdout",
     "output_type": "stream",
     "text": [
      "Error while trying to scrape pinned message from 1834693411\n",
      "The channel specified is private and you lack permission to access it. Another reason may be that you were banned from it (caused by GetFullChannelRequest)\n"
     ]
    },
    {
     "name": "stderr",
     "output_type": "stream",
     "text": [
      " 14%|█▍        | 3763/26782 [25:44<1:21:11,  4.72it/s] "
     ]
    },
    {
     "name": "stdout",
     "output_type": "stream",
     "text": [
      "Peer don't found for totoro_japan\n"
     ]
    },
    {
     "name": "stderr",
     "output_type": "stream",
     "text": [
      " 15%|█▍        | 3911/26782 [26:42<1:23:08,  4.58it/s] "
     ]
    },
    {
     "name": "stdout",
     "output_type": "stream",
     "text": [
      "Peer don't found for Rammstein\n"
     ]
    },
    {
     "name": "stderr",
     "output_type": "stream",
     "text": [
      " 15%|█▍        | 3997/26782 [27:14<1:29:54,  4.22it/s] "
     ]
    },
    {
     "name": "stdout",
     "output_type": "stream",
     "text": [
      "Error while trying to scrape pinned message from 1858762949\n",
      "The channel specified is private and you lack permission to access it. Another reason may be that you were banned from it (caused by GetFullChannelRequest)\n"
     ]
    },
    {
     "name": "stderr",
     "output_type": "stream",
     "text": [
      " 15%|█▌        | 4061/26782 [27:47<1:14:42,  5.07it/s] "
     ]
    },
    {
     "name": "stdout",
     "output_type": "stream",
     "text": [
      "Error while trying to scrape pinned message from 1721049866\n",
      "The channel specified is private and you lack permission to access it. Another reason may be that you were banned from it (caused by GetFullChannelRequest)\n"
     ]
    },
    {
     "name": "stderr",
     "output_type": "stream",
     "text": [
      " 15%|█▌        | 4071/26782 [27:50<1:42:55,  3.68it/s]"
     ]
    },
    {
     "name": "stdout",
     "output_type": "stream",
     "text": [
      "Peer don't found for resto_mesto\n"
     ]
    },
    {
     "name": "stderr",
     "output_type": "stream",
     "text": [
      " 15%|█▌        | 4099/26782 [28:10<1:37:52,  3.86it/s] "
     ]
    },
    {
     "name": "stdout",
     "output_type": "stream",
     "text": [
      "Error while trying to scrape pinned message from 1346268646\n",
      "The channel specified is private and you lack permission to access it. Another reason may be that you were banned from it (caused by GetFullChannelRequest)\n"
     ]
    },
    {
     "name": "stderr",
     "output_type": "stream",
     "text": [
      " 16%|█▌        | 4281/26782 [29:22<1:17:18,  4.85it/s] "
     ]
    },
    {
     "name": "stdout",
     "output_type": "stream",
     "text": [
      "Peer don't found for retseptic\n"
     ]
    },
    {
     "name": "stderr",
     "output_type": "stream",
     "text": [
      " 16%|█▌        | 4325/26782 [29:33<1:48:35,  3.45it/s]"
     ]
    },
    {
     "name": "stdout",
     "output_type": "stream",
     "text": [
      "Peer don't found for voiceofisrael\n"
     ]
    },
    {
     "name": "stderr",
     "output_type": "stream",
     "text": [
      " 16%|█▌        | 4348/26782 [29:46<2:23:29,  2.61it/s] "
     ]
    },
    {
     "name": "stdout",
     "output_type": "stream",
     "text": [
      "Error while trying to scrape pinned message from 2012526445\n",
      "The channel specified is private and you lack permission to access it. Another reason may be that you were banned from it (caused by GetFullChannelRequest)\n"
     ]
    },
    {
     "name": "stderr",
     "output_type": "stream",
     "text": [
      " 16%|█▋        | 4419/26782 [30:02<1:03:24,  5.88it/s]"
     ]
    },
    {
     "name": "stdout",
     "output_type": "stream",
     "text": [
      "Error while trying to scrape pinned message from 1650980741\n",
      "The channel specified is private and you lack permission to access it. Another reason may be that you were banned from it (caused by GetFullChannelRequest)\n"
     ]
    },
    {
     "name": "stderr",
     "output_type": "stream",
     "text": [
      " 17%|█▋        | 4512/26782 [30:39<1:15:06,  4.94it/s] "
     ]
    },
    {
     "name": "stdout",
     "output_type": "stream",
     "text": [
      "Error while trying to scrape pinned message from 2149745063\n",
      "The channel specified is private and you lack permission to access it. Another reason may be that you were banned from it (caused by GetFullChannelRequest)\n"
     ]
    },
    {
     "name": "stderr",
     "output_type": "stream",
     "text": [
      " 18%|█▊        | 4824/26782 [32:37<1:03:26,  5.77it/s] "
     ]
    },
    {
     "name": "stdout",
     "output_type": "stream",
     "text": [
      "Error while trying to scrape pinned message from 2147153998\n",
      "The channel specified is private and you lack permission to access it. Another reason may be that you were banned from it (caused by GetFullChannelRequest)\n"
     ]
    },
    {
     "name": "stderr",
     "output_type": "stream",
     "text": [
      " 19%|█▊        | 4983/26782 [34:03<7:24:08,  1.22s/it] "
     ]
    },
    {
     "name": "stdout",
     "output_type": "stream",
     "text": [
      "Error while trying to scrape pinned message from 1271424034\n",
      "The channel specified is private and you lack permission to access it. Another reason may be that you were banned from it (caused by GetFullChannelRequest)\n"
     ]
    },
    {
     "name": "stderr",
     "output_type": "stream",
     "text": [
      " 19%|█▉        | 5124/26782 [34:48<1:04:00,  5.64it/s] "
     ]
    },
    {
     "name": "stdout",
     "output_type": "stream",
     "text": [
      "Error while trying to scrape pinned message from 1386324130\n",
      "The channel specified is private and you lack permission to access it. Another reason may be that you were banned from it (caused by GetFullChannelRequest)\n"
     ]
    },
    {
     "name": "stderr",
     "output_type": "stream",
     "text": [
      " 19%|█▉        | 5138/26782 [35:09<2:53:02,  2.08it/s] "
     ]
    },
    {
     "name": "stdout",
     "output_type": "stream",
     "text": [
      "Error while trying to scrape pinned message from 2014350253\n",
      "The channel specified is private and you lack permission to access it. Another reason may be that you were banned from it (caused by GetFullChannelRequest)\n"
     ]
    },
    {
     "name": "stderr",
     "output_type": "stream",
     "text": [
      " 20%|█▉        | 5254/26782 [35:55<1:08:55,  5.21it/s] "
     ]
    },
    {
     "name": "stdout",
     "output_type": "stream",
     "text": [
      "Error while trying to scrape pinned message from 1581226179\n",
      "The channel specified is private and you lack permission to access it. Another reason may be that you were banned from it (caused by GetFullChannelRequest)\n"
     ]
    },
    {
     "name": "stderr",
     "output_type": "stream",
     "text": [
      " 21%|██        | 5653/26782 [39:32<1:07:45,  5.20it/s] "
     ]
    },
    {
     "name": "stdout",
     "output_type": "stream",
     "text": [
      "Error while trying to scrape pinned message from 1228616969\n",
      "The channel specified is private and you lack permission to access it. Another reason may be that you were banned from it (caused by GetFullChannelRequest)\n"
     ]
    },
    {
     "name": "stderr",
     "output_type": "stream",
     "text": [
      " 22%|██▏       | 5794/26782 [40:38<1:06:25,  5.27it/s] "
     ]
    },
    {
     "name": "stdout",
     "output_type": "stream",
     "text": [
      "Error while trying to scrape pinned message from 2321337783\n",
      "The channel specified is private and you lack permission to access it. Another reason may be that you were banned from it (caused by GetFullChannelRequest)\n"
     ]
    },
    {
     "name": "stderr",
     "output_type": "stream",
     "text": [
      " 23%|██▎       | 6103/26782 [43:20<1:05:47,  5.24it/s] "
     ]
    },
    {
     "name": "stdout",
     "output_type": "stream",
     "text": [
      "Error while trying to scrape pinned message from 1600929829\n",
      "The channel specified is private and you lack permission to access it. Another reason may be that you were banned from it (caused by GetFullChannelRequest)\n"
     ]
    },
    {
     "name": "stderr",
     "output_type": "stream",
     "text": [
      " 23%|██▎       | 6176/26782 [43:54<1:04:30,  5.32it/s] "
     ]
    },
    {
     "name": "stdout",
     "output_type": "stream",
     "text": [
      "Error while trying to scrape pinned message from 1668990446\n",
      "The channel specified is private and you lack permission to access it. Another reason may be that you were banned from it (caused by GetFullChannelRequest)\n"
     ]
    },
    {
     "name": "stderr",
     "output_type": "stream",
     "text": [
      " 23%|██▎       | 6191/26782 [44:13<6:03:28,  1.06s/it] "
     ]
    },
    {
     "name": "stdout",
     "output_type": "stream",
     "text": [
      "Error while trying to scrape pinned message from 1276603446\n",
      "The channel specified is private and you lack permission to access it. Another reason may be that you were banned from it (caused by GetFullChannelRequest)\n"
     ]
    },
    {
     "name": "stderr",
     "output_type": "stream",
     "text": [
      " 23%|██▎       | 6292/26782 [44:50<1:02:55,  5.43it/s] "
     ]
    },
    {
     "name": "stdout",
     "output_type": "stream",
     "text": [
      "Error while trying to scrape pinned message from 2031690039\n",
      "The channel specified is private and you lack permission to access it. Another reason may be that you were banned from it (caused by GetFullChannelRequest)\n"
     ]
    },
    {
     "name": "stderr",
     "output_type": "stream",
     "text": [
      " 25%|██▍       | 6581/26782 [46:54<1:01:12,  5.50it/s] "
     ]
    },
    {
     "name": "stdout",
     "output_type": "stream",
     "text": [
      "Error while trying to scrape pinned message from 1365732980\n",
      "The channel specified is private and you lack permission to access it. Another reason may be that you were banned from it (caused by GetFullChannelRequest)\n"
     ]
    },
    {
     "name": "stderr",
     "output_type": "stream",
     "text": [
      " 25%|██▌       | 6766/26782 [48:07<1:04:31,  5.17it/s] "
     ]
    },
    {
     "name": "stdout",
     "output_type": "stream",
     "text": [
      "Error while trying to scrape pinned message from 1596134170\n",
      "The channel specified is private and you lack permission to access it. Another reason may be that you were banned from it (caused by GetFullChannelRequest)\n"
     ]
    },
    {
     "name": "stderr",
     "output_type": "stream",
     "text": [
      " 27%|██▋       | 7103/26782 [51:42<1:11:16,  4.60it/s] "
     ]
    },
    {
     "name": "stdout",
     "output_type": "stream",
     "text": [
      "Error while trying to scrape pinned message from 1768321868\n",
      "The channel specified is private and you lack permission to access it. Another reason may be that you were banned from it (caused by GetFullChannelRequest)\n"
     ]
    },
    {
     "name": "stderr",
     "output_type": "stream",
     "text": [
      " 27%|██▋       | 7122/26782 [51:46<1:07:43,  4.84it/s]"
     ]
    },
    {
     "name": "stdout",
     "output_type": "stream",
     "text": [
      "Error while trying to scrape pinned message from 1295855478\n",
      "The channel specified is private and you lack permission to access it. Another reason may be that you were banned from it (caused by GetFullChannelRequest)\n"
     ]
    },
    {
     "name": "stderr",
     "output_type": "stream",
     "text": [
      " 27%|██▋       | 7148/26782 [52:10<6:00:46,  1.10s/it] "
     ]
    },
    {
     "name": "stdout",
     "output_type": "stream",
     "text": [
      "Error while trying to scrape pinned message from 1610382088\n",
      "The channel specified is private and you lack permission to access it. Another reason may be that you were banned from it (caused by GetFullChannelRequest)\n"
     ]
    },
    {
     "name": "stderr",
     "output_type": "stream",
     "text": [
      " 27%|██▋       | 7293/26782 [53:17<2:59:00,  1.81it/s] "
     ]
    },
    {
     "name": "stdout",
     "output_type": "stream",
     "text": [
      "Error while trying to scrape pinned message from 1377802285\n",
      "The channel specified is private and you lack permission to access it. Another reason may be that you were banned from it (caused by GetFullChannelRequest)\n"
     ]
    },
    {
     "name": "stderr",
     "output_type": "stream",
     "text": [
      " 28%|██▊       | 7421/26782 [54:09<1:27:27,  3.69it/s] "
     ]
    },
    {
     "name": "stdout",
     "output_type": "stream",
     "text": [
      "Error while trying to scrape pinned message from 1634628018\n",
      "The channel specified is private and you lack permission to access it. Another reason may be that you were banned from it (caused by GetFullChannelRequest)\n"
     ]
    },
    {
     "name": "stderr",
     "output_type": "stream",
     "text": [
      " 29%|██▉       | 7834/26782 [57:06<4:08:00,  1.27it/s] "
     ]
    },
    {
     "name": "stdout",
     "output_type": "stream",
     "text": [
      "Error while trying to scrape pinned message from 1141168309\n",
      "The channel specified is private and you lack permission to access it. Another reason may be that you were banned from it (caused by GetFullChannelRequest)\n"
     ]
    },
    {
     "name": "stderr",
     "output_type": "stream",
     "text": [
      " 29%|██▉       | 7873/26782 [57:14<1:05:11,  4.83it/s]"
     ]
    },
    {
     "name": "stdout",
     "output_type": "stream",
     "text": [
      "Error while trying to scrape pinned message from 1873203926\n",
      "The channel specified is private and you lack permission to access it. Another reason may be that you were banned from it (caused by GetFullChannelRequest)\n"
     ]
    },
    {
     "name": "stderr",
     "output_type": "stream",
     "text": [
      " 30%|██▉       | 7936/26782 [57:45<55:14,  5.69it/s]   "
     ]
    },
    {
     "name": "stdout",
     "output_type": "stream",
     "text": [
      "Error while trying to scrape pinned message from 1438442649\n",
      "The channel specified is private and you lack permission to access it. Another reason may be that you were banned from it (caused by GetFullChannelRequest)\n"
     ]
    },
    {
     "name": "stderr",
     "output_type": "stream",
     "text": [
      " 30%|██▉       | 7953/26782 [58:08<6:07:18,  1.17s/it] "
     ]
    },
    {
     "name": "stdout",
     "output_type": "stream",
     "text": [
      "Error while trying to scrape pinned message from 1148760927\n",
      "The channel specified is private and you lack permission to access it. Another reason may be that you were banned from it (caused by GetFullChannelRequest)\n"
     ]
    },
    {
     "name": "stderr",
     "output_type": "stream",
     "text": [
      " 30%|██▉       | 7992/26782 [58:16<56:53,  5.51it/s]  "
     ]
    },
    {
     "name": "stdout",
     "output_type": "stream",
     "text": [
      "Error while trying to scrape pinned message from 1369615957\n",
      "The channel specified is private and you lack permission to access it. Another reason may be that you were banned from it (caused by GetFullChannelRequest)\n"
     ]
    },
    {
     "name": "stderr",
     "output_type": "stream",
     "text": [
      " 30%|███       | 8110/26782 [59:20<58:01,  5.36it/s]   "
     ]
    },
    {
     "name": "stdout",
     "output_type": "stream",
     "text": [
      "Error while trying to scrape pinned message from 1914492042\n",
      "The channel specified is private and you lack permission to access it. Another reason may be that you were banned from it (caused by GetFullChannelRequest)\n"
     ]
    },
    {
     "name": "stderr",
     "output_type": "stream",
     "text": [
      " 31%|███       | 8328/26782 [1:02:25<1:05:43,  4.68it/s] "
     ]
    },
    {
     "name": "stdout",
     "output_type": "stream",
     "text": [
      "Error while trying to scrape pinned message from 2223834076\n",
      "The channel specified is private and you lack permission to access it. Another reason may be that you were banned from it (caused by GetFullChannelRequest)\n"
     ]
    },
    {
     "name": "stderr",
     "output_type": "stream",
     "text": [
      " 31%|███▏      | 8374/26782 [1:02:34<49:58,  6.14it/s]  "
     ]
    },
    {
     "name": "stdout",
     "output_type": "stream",
     "text": [
      "Error while trying to scrape pinned message from 1293009658\n",
      "The channel specified is private and you lack permission to access it. Another reason may be that you were banned from it (caused by GetFullChannelRequest)\n"
     ]
    },
    {
     "name": "stderr",
     "output_type": "stream",
     "text": [
      " 32%|███▏      | 8519/26782 [1:04:00<49:28,  6.15it/s]   "
     ]
    },
    {
     "name": "stdout",
     "output_type": "stream",
     "text": [
      "Error while trying to scrape pinned message from 1935808010\n",
      "The channel specified is private and you lack permission to access it. Another reason may be that you were banned from it (caused by GetFullChannelRequest)\n"
     ]
    },
    {
     "name": "stderr",
     "output_type": "stream",
     "text": [
      " 33%|███▎      | 8883/26782 [1:06:44<47:37,  6.26it/s]   "
     ]
    },
    {
     "name": "stdout",
     "output_type": "stream",
     "text": [
      "Error while trying to scrape pinned message from 1559625569\n",
      "The channel specified is private and you lack permission to access it. Another reason may be that you were banned from it (caused by GetFullChannelRequest)\n"
     ]
    },
    {
     "name": "stderr",
     "output_type": "stream",
     "text": [
      " 33%|███▎      | 8955/26782 [1:07:18<59:14,  5.02it/s]   "
     ]
    },
    {
     "name": "stdout",
     "output_type": "stream",
     "text": [
      "Error while trying to scrape pinned message from 2088303942\n",
      "The channel specified is private and you lack permission to access it. Another reason may be that you were banned from it (caused by GetFullChannelRequest)\n",
      "Error while trying to scrape pinned message from 1844950067\n",
      "The channel specified is private and you lack permission to access it. Another reason may be that you were banned from it (caused by GetFullChannelRequest)\n"
     ]
    },
    {
     "name": "stderr",
     "output_type": "stream",
     "text": [
      " 34%|███▍      | 9078/26782 [1:08:21<56:21,  5.24it/s]   "
     ]
    },
    {
     "name": "stdout",
     "output_type": "stream",
     "text": [
      "Error while trying to scrape pinned message from 1071365669\n",
      "The channel specified is private and you lack permission to access it. Another reason may be that you were banned from it (caused by GetFullChannelRequest)\n"
     ]
    },
    {
     "name": "stderr",
     "output_type": "stream",
     "text": [
      " 34%|███▍      | 9121/26782 [1:08:48<1:04:19,  4.58it/s] "
     ]
    },
    {
     "name": "stdout",
     "output_type": "stream",
     "text": [
      "Error while trying to scrape pinned message from 2208616684\n",
      "The channel specified is private and you lack permission to access it. Another reason may be that you were banned from it (caused by GetFullChannelRequest)\n"
     ]
    },
    {
     "name": "stderr",
     "output_type": "stream",
     "text": [
      " 34%|███▍      | 9138/26782 [1:08:52<1:02:25,  4.71it/s]"
     ]
    },
    {
     "name": "stdout",
     "output_type": "stream",
     "text": [
      "Error while trying to scrape pinned message from 2019567368\n",
      "The channel specified is private and you lack permission to access it. Another reason may be that you were banned from it (caused by GetFullChannelRequest)\n"
     ]
    },
    {
     "name": "stderr",
     "output_type": "stream",
     "text": [
      " 36%|███▌      | 9512/26782 [1:12:09<58:40,  4.91it/s]   "
     ]
    },
    {
     "name": "stdout",
     "output_type": "stream",
     "text": [
      "Error while trying to scrape pinned message from 1144077872\n",
      "The channel specified is private and you lack permission to access it. Another reason may be that you were banned from it (caused by GetFullChannelRequest)\n"
     ]
    },
    {
     "name": "stderr",
     "output_type": "stream",
     "text": [
      " 36%|███▌      | 9641/26782 [1:13:28<14:53:24,  3.13s/it]"
     ]
    },
    {
     "name": "stdout",
     "output_type": "stream",
     "text": [
      "Error while trying to scrape pinned message from 1712274015\n",
      "The channel specified is private and you lack permission to access it. Another reason may be that you were banned from it (caused by GetFullChannelRequest)\n"
     ]
    },
    {
     "name": "stderr",
     "output_type": "stream",
     "text": [
      " 37%|███▋      | 9797/26782 [1:14:42<1:05:29,  4.32it/s] "
     ]
    },
    {
     "name": "stdout",
     "output_type": "stream",
     "text": [
      "Error while trying to scrape pinned message from 2039047474\n",
      "The channel specified is private and you lack permission to access it. Another reason may be that you were banned from it (caused by GetFullChannelRequest)\n"
     ]
    },
    {
     "name": "stderr",
     "output_type": "stream",
     "text": [
      " 37%|███▋      | 10021/26782 [1:16:46<50:55,  5.49it/s]  "
     ]
    },
    {
     "name": "stdout",
     "output_type": "stream",
     "text": [
      "Error while trying to scrape pinned message from 2082537797\n",
      "The channel specified is private and you lack permission to access it. Another reason may be that you were banned from it (caused by GetFullChannelRequest)\n"
     ]
    },
    {
     "name": "stderr",
     "output_type": "stream",
     "text": [
      " 38%|███▊      | 10133/26782 [1:17:41<1:23:40,  3.32it/s] "
     ]
    },
    {
     "name": "stdout",
     "output_type": "stream",
     "text": [
      "Error while trying to scrape pinned message from 1336998420\n",
      "The channel specified is private and you lack permission to access it. Another reason may be that you were banned from it (caused by GetFullChannelRequest)\n"
     ]
    },
    {
     "name": "stderr",
     "output_type": "stream",
     "text": [
      " 38%|███▊      | 10198/26782 [1:17:55<46:50,  5.90it/s]  "
     ]
    },
    {
     "name": "stdout",
     "output_type": "stream",
     "text": [
      "Error while trying to scrape pinned message from 1562928895\n",
      "The channel specified is private and you lack permission to access it. Another reason may be that you were banned from it (caused by GetFullChannelRequest)\n"
     ]
    },
    {
     "name": "stderr",
     "output_type": "stream",
     "text": [
      " 39%|███▉      | 10514/26782 [1:20:22<50:42,  5.35it/s]   "
     ]
    },
    {
     "name": "stdout",
     "output_type": "stream",
     "text": [
      "Error while trying to scrape pinned message from 2182684134\n",
      "The channel specified is private and you lack permission to access it. Another reason may be that you were banned from it (caused by GetFullChannelRequest)\n"
     ]
    },
    {
     "name": "stderr",
     "output_type": "stream",
     "text": [
      " 39%|███▉      | 10573/26782 [1:20:49<46:45,  5.78it/s]   "
     ]
    },
    {
     "name": "stdout",
     "output_type": "stream",
     "text": [
      "Error while trying to scrape pinned message from 1882081438\n",
      "The channel specified is private and you lack permission to access it. Another reason may be that you were banned from it (caused by GetFullChannelRequest)\n"
     ]
    },
    {
     "name": "stderr",
     "output_type": "stream",
     "text": [
      " 41%|████      | 10859/26782 [1:22:59<52:45,  5.03it/s]   "
     ]
    },
    {
     "name": "stdout",
     "output_type": "stream",
     "text": [
      "Error while trying to scrape pinned message from 1409228701\n",
      "The channel specified is private and you lack permission to access it. Another reason may be that you were banned from it (caused by GetFullChannelRequest)\n"
     ]
    },
    {
     "name": "stderr",
     "output_type": "stream",
     "text": [
      " 42%|████▏     | 11150/26782 [1:25:15<59:00,  4.42it/s]   "
     ]
    },
    {
     "name": "stdout",
     "output_type": "stream",
     "text": [
      "Error while trying to scrape pinned message from 1490690231\n",
      "The channel specified is private and you lack permission to access it. Another reason may be that you were banned from it (caused by GetFullChannelRequest)\n"
     ]
    },
    {
     "name": "stderr",
     "output_type": "stream",
     "text": [
      " 42%|████▏     | 11322/26782 [1:26:46<1:10:16,  3.67it/s] "
     ]
    },
    {
     "name": "stdout",
     "output_type": "stream",
     "text": [
      "Error while trying to scrape pinned message from 2301254721\n",
      "The channel specified is private and you lack permission to access it. Another reason may be that you were banned from it (caused by GetFullChannelRequest)\n"
     ]
    },
    {
     "name": "stderr",
     "output_type": "stream",
     "text": [
      " 43%|████▎     | 11413/26782 [1:27:17<53:22,  4.80it/s]   "
     ]
    },
    {
     "name": "stdout",
     "output_type": "stream",
     "text": [
      "Error while trying to scrape pinned message from 1814758673\n",
      "The channel specified is private and you lack permission to access it. Another reason may be that you were banned from it (caused by GetFullChannelRequest)\n"
     ]
    },
    {
     "name": "stderr",
     "output_type": "stream",
     "text": [
      " 43%|████▎     | 11498/26782 [1:28:09<6:19:46,  1.49s/it] "
     ]
    },
    {
     "name": "stdout",
     "output_type": "stream",
     "text": [
      "Error while trying to scrape pinned message from 1643222913\n",
      "The channel specified is private and you lack permission to access it. Another reason may be that you were banned from it (caused by GetFullChannelRequest)\n"
     ]
    },
    {
     "name": "stderr",
     "output_type": "stream",
     "text": [
      " 43%|████▎     | 11650/26782 [1:28:57<51:38,  4.88it/s]   "
     ]
    },
    {
     "name": "stdout",
     "output_type": "stream",
     "text": [
      "Error while trying to scrape pinned message from 1186432716\n",
      "The channel specified is private and you lack permission to access it. Another reason may be that you were banned from it (caused by GetFullChannelRequest)\n"
     ]
    },
    {
     "name": "stderr",
     "output_type": "stream",
     "text": [
      " 44%|████▎     | 11693/26782 [1:29:22<53:38,  4.69it/s]   "
     ]
    },
    {
     "name": "stdout",
     "output_type": "stream",
     "text": [
      "Error while trying to scrape pinned message from 2153411260\n",
      "The channel specified is private and you lack permission to access it. Another reason may be that you were banned from it (caused by GetFullChannelRequest)\n"
     ]
    },
    {
     "name": "stderr",
     "output_type": "stream",
     "text": [
      " 44%|████▍     | 11882/26782 [1:30:34<49:13,  5.04it/s]   "
     ]
    },
    {
     "name": "stdout",
     "output_type": "stream",
     "text": [
      "Error while trying to scrape pinned message from 1778353573\n",
      "The channel specified is private and you lack permission to access it. Another reason may be that you were banned from it (caused by GetFullChannelRequest)\n"
     ]
    },
    {
     "name": "stderr",
     "output_type": "stream",
     "text": [
      " 46%|████▌     | 12205/26782 [1:32:42<51:15,  4.74it/s]   "
     ]
    },
    {
     "name": "stdout",
     "output_type": "stream",
     "text": [
      "Error while trying to scrape pinned message from 2002021372\n",
      "The channel specified is private and you lack permission to access it. Another reason may be that you were banned from it (caused by GetFullChannelRequest)\n"
     ]
    },
    {
     "name": "stderr",
     "output_type": "stream",
     "text": [
      " 47%|████▋     | 12659/26782 [1:35:21<43:21,  5.43it/s]   "
     ]
    },
    {
     "name": "stdout",
     "output_type": "stream",
     "text": [
      "Error while trying to scrape pinned message from 1789760894\n",
      "The channel specified is private and you lack permission to access it. Another reason may be that you were banned from it (caused by GetFullChannelRequest)\n"
     ]
    },
    {
     "name": "stderr",
     "output_type": "stream",
     "text": [
      " 48%|████▊     | 12812/26782 [1:36:28<46:12,  5.04it/s]   "
     ]
    },
    {
     "name": "stdout",
     "output_type": "stream",
     "text": [
      "Error while trying to scrape pinned message from 2101805194\n",
      "The channel specified is private and you lack permission to access it. Another reason may be that you were banned from it (caused by GetFullChannelRequest)\n"
     ]
    },
    {
     "name": "stderr",
     "output_type": "stream",
     "text": [
      " 48%|████▊     | 12818/26782 [1:36:29<46:03,  5.05it/s]"
     ]
    },
    {
     "name": "stdout",
     "output_type": "stream",
     "text": [
      "Error while trying to scrape pinned message from 1998453224\n",
      "The channel specified is private and you lack permission to access it. Another reason may be that you were banned from it (caused by GetFullChannelRequest)\n"
     ]
    },
    {
     "name": "stderr",
     "output_type": "stream",
     "text": [
      " 49%|████▊     | 13041/26782 [1:38:07<42:36,  5.37it/s]   "
     ]
    },
    {
     "name": "stdout",
     "output_type": "stream",
     "text": [
      "Error while trying to scrape pinned message from 2127175082\n",
      "The channel specified is private and you lack permission to access it. Another reason may be that you were banned from it (caused by GetFullChannelRequest)\n"
     ]
    },
    {
     "name": "stderr",
     "output_type": "stream",
     "text": [
      " 49%|████▉     | 13063/26782 [1:38:12<47:44,  4.79it/s]  "
     ]
    },
    {
     "name": "stdout",
     "output_type": "stream",
     "text": [
      "Error while trying to scrape pinned message from 1809598980\n",
      "The channel specified is private and you lack permission to access it. Another reason may be that you were banned from it (caused by GetFullChannelRequest)\n"
     ]
    },
    {
     "name": "stderr",
     "output_type": "stream",
     "text": [
      " 51%|█████     | 13587/26782 [1:41:50<36:50,  5.97it/s]   "
     ]
    },
    {
     "name": "stdout",
     "output_type": "stream",
     "text": [
      "Error while trying to scrape pinned message from 1578358393\n",
      "The channel specified is private and you lack permission to access it. Another reason may be that you were banned from it (caused by GetFullChannelRequest)\n"
     ]
    },
    {
     "name": "stderr",
     "output_type": "stream",
     "text": [
      " 52%|█████▏    | 13958/26782 [1:43:40<37:13,  5.74it/s]   "
     ]
    },
    {
     "name": "stdout",
     "output_type": "stream",
     "text": [
      "Error while trying to scrape pinned message from 2113698401\n",
      "The channel specified is private and you lack permission to access it. Another reason may be that you were banned from it (caused by GetFullChannelRequest)\n"
     ]
    },
    {
     "name": "stderr",
     "output_type": "stream",
     "text": [
      " 53%|█████▎    | 14263/26782 [1:44:57<43:00,  4.85it/s]  "
     ]
    },
    {
     "name": "stdout",
     "output_type": "stream",
     "text": [
      "Error while trying to scrape pinned message from 1616248581\n",
      "The channel specified is private and you lack permission to access it. Another reason may be that you were banned from it (caused by GetFullChannelRequest)\n"
     ]
    },
    {
     "name": "stderr",
     "output_type": "stream",
     "text": [
      " 54%|█████▍    | 14514/26782 [1:46:02<38:10,  5.36it/s]   "
     ]
    },
    {
     "name": "stdout",
     "output_type": "stream",
     "text": [
      "Error while trying to scrape pinned message from 1977780855\n",
      "The channel specified is private and you lack permission to access it. Another reason may be that you were banned from it (caused by GetFullChannelRequest)\n"
     ]
    },
    {
     "name": "stderr",
     "output_type": "stream",
     "text": [
      " 54%|█████▍    | 14553/26782 [1:46:11<40:36,  5.02it/s]  "
     ]
    },
    {
     "name": "stdout",
     "output_type": "stream",
     "text": [
      "Error while trying to scrape pinned message from 1251577026\n",
      "The channel specified is private and you lack permission to access it. Another reason may be that you were banned from it (caused by GetFullChannelRequest)\n"
     ]
    },
    {
     "name": "stderr",
     "output_type": "stream",
     "text": [
      " 55%|█████▍    | 14633/26782 [1:46:29<39:01,  5.19it/s]"
     ]
    },
    {
     "name": "stdout",
     "output_type": "stream",
     "text": [
      "Error while trying to scrape pinned message from 1228232653\n",
      "The channel specified is private and you lack permission to access it. Another reason may be that you were banned from it (caused by GetFullChannelRequest)\n"
     ]
    },
    {
     "name": "stderr",
     "output_type": "stream",
     "text": [
      " 59%|█████▊    | 15699/26782 [1:50:59<37:43,  4.90it/s]  "
     ]
    },
    {
     "name": "stdout",
     "output_type": "stream",
     "text": [
      "Error while trying to scrape pinned message from 1166525004\n",
      "The channel specified is private and you lack permission to access it. Another reason may be that you were banned from it (caused by GetFullChannelRequest)\n"
     ]
    },
    {
     "name": "stderr",
     "output_type": "stream",
     "text": [
      " 59%|█████▉    | 15760/26782 [1:51:13<45:09,  4.07it/s]  "
     ]
    },
    {
     "name": "stdout",
     "output_type": "stream",
     "text": [
      "Error while trying to scrape pinned message from 1757322276\n",
      "The channel specified is private and you lack permission to access it. Another reason may be that you were banned from it (caused by GetFullChannelRequest)\n"
     ]
    },
    {
     "name": "stderr",
     "output_type": "stream",
     "text": [
      " 59%|█████▉    | 15816/26782 [1:51:26<39:25,  4.63it/s]"
     ]
    },
    {
     "name": "stdout",
     "output_type": "stream",
     "text": [
      "Error while trying to scrape pinned message from 1110171881\n",
      "The channel specified is private and you lack permission to access it. Another reason may be that you were banned from it (caused by GetFullChannelRequest)\n"
     ]
    },
    {
     "name": "stderr",
     "output_type": "stream",
     "text": [
      " 60%|█████▉    | 15941/26782 [1:52:03<34:14,  5.28it/s]  "
     ]
    },
    {
     "name": "stdout",
     "output_type": "stream",
     "text": [
      "Error while trying to scrape pinned message from 2145760369\n",
      "The channel specified is private and you lack permission to access it. Another reason may be that you were banned from it (caused by GetFullChannelRequest)\n"
     ]
    },
    {
     "name": "stderr",
     "output_type": "stream",
     "text": [
      " 61%|██████    | 16261/26782 [1:53:27<31:57,  5.49it/s]   "
     ]
    },
    {
     "name": "stdout",
     "output_type": "stream",
     "text": [
      "Error while trying to scrape pinned message from 1891290960\n",
      "The channel specified is private and you lack permission to access it. Another reason may be that you were banned from it (caused by GetFullChannelRequest)\n"
     ]
    },
    {
     "name": "stderr",
     "output_type": "stream",
     "text": [
      " 61%|██████▏   | 16444/26782 [1:54:16<32:22,  5.32it/s]  "
     ]
    },
    {
     "name": "stdout",
     "output_type": "stream",
     "text": [
      "Error while trying to scrape pinned message from 1600996865\n",
      "The channel specified is private and you lack permission to access it. Another reason may be that you were banned from it (caused by GetFullChannelRequest)\n"
     ]
    },
    {
     "name": "stderr",
     "output_type": "stream",
     "text": [
      " 62%|██████▏   | 16482/26782 [1:54:25<32:26,  5.29it/s]"
     ]
    },
    {
     "name": "stdout",
     "output_type": "stream",
     "text": [
      "Error while trying to scrape pinned message from 2075137999\n",
      "The channel specified is private and you lack permission to access it. Another reason may be that you were banned from it (caused by GetFullChannelRequest)\n"
     ]
    },
    {
     "name": "stderr",
     "output_type": "stream",
     "text": [
      " 62%|██████▏   | 16505/26782 [1:54:29<32:29,  5.27it/s]"
     ]
    },
    {
     "name": "stdout",
     "output_type": "stream",
     "text": [
      "Error while trying to scrape pinned message from 1633199744\n",
      "The channel specified is private and you lack permission to access it. Another reason may be that you were banned from it (caused by GetFullChannelRequest)\n"
     ]
    },
    {
     "name": "stderr",
     "output_type": "stream",
     "text": [
      " 62%|██████▏   | 16669/26782 [1:55:09<46:24,  3.63it/s]  "
     ]
    },
    {
     "name": "stdout",
     "output_type": "stream",
     "text": [
      "Error while trying to scrape pinned message from 1676154198\n",
      "The channel specified is private and you lack permission to access it. Another reason may be that you were banned from it (caused by GetFullChannelRequest)\n"
     ]
    },
    {
     "name": "stderr",
     "output_type": "stream",
     "text": [
      " 63%|██████▎   | 16897/26782 [1:56:01<36:01,  4.57it/s]  "
     ]
    },
    {
     "name": "stdout",
     "output_type": "stream",
     "text": [
      "Error while trying to scrape pinned message from 2080004344\n",
      "The channel specified is private and you lack permission to access it. Another reason may be that you were banned from it (caused by GetFullChannelRequest)\n"
     ]
    },
    {
     "name": "stderr",
     "output_type": "stream",
     "text": [
      " 63%|██████▎   | 16971/26782 [1:56:17<32:37,  5.01it/s]  "
     ]
    },
    {
     "name": "stdout",
     "output_type": "stream",
     "text": [
      "Error while trying to scrape pinned message from 2074343635\n",
      "The channel specified is private and you lack permission to access it. Another reason may be that you were banned from it (caused by GetFullChannelRequest)\n"
     ]
    },
    {
     "name": "stderr",
     "output_type": "stream",
     "text": [
      " 67%|██████▋   | 18019/26782 [2:01:09<26:13,  5.57it/s]   "
     ]
    },
    {
     "name": "stdout",
     "output_type": "stream",
     "text": [
      "Error while trying to scrape pinned message from 1792127750\n",
      "The channel specified is private and you lack permission to access it. Another reason may be that you were banned from it (caused by GetFullChannelRequest)\n"
     ]
    },
    {
     "name": "stderr",
     "output_type": "stream",
     "text": [
      " 70%|██████▉   | 18719/26782 [2:04:00<24:04,  5.58it/s]  "
     ]
    },
    {
     "name": "stdout",
     "output_type": "stream",
     "text": [
      "Error while trying to scrape pinned message from 1715679330\n",
      "The channel specified is private and you lack permission to access it. Another reason may be that you were banned from it (caused by GetFullChannelRequest)\n"
     ]
    },
    {
     "name": "stderr",
     "output_type": "stream",
     "text": [
      " 71%|███████   | 18978/26782 [2:04:58<23:30,  5.53it/s]  "
     ]
    },
    {
     "name": "stdout",
     "output_type": "stream",
     "text": [
      "Error while trying to scrape pinned message from 1793301108\n",
      "The channel specified is private and you lack permission to access it. Another reason may be that you were banned from it (caused by GetFullChannelRequest)\n"
     ]
    },
    {
     "name": "stderr",
     "output_type": "stream",
     "text": [
      " 72%|███████▏  | 19359/26782 [2:06:29<23:03,  5.37it/s]  "
     ]
    },
    {
     "name": "stdout",
     "output_type": "stream",
     "text": [
      "Error while trying to scrape pinned message from 2133944990\n",
      "The channel specified is private and you lack permission to access it. Another reason may be that you were banned from it (caused by GetFullChannelRequest)\n"
     ]
    },
    {
     "name": "stderr",
     "output_type": "stream",
     "text": [
      " 74%|███████▎  | 19734/26782 [2:07:52<21:44,  5.40it/s]"
     ]
    },
    {
     "name": "stdout",
     "output_type": "stream",
     "text": [
      "Error while trying to scrape pinned message from 2439619873\n",
      "The channel specified is private and you lack permission to access it. Another reason may be that you were banned from it (caused by GetFullChannelRequest)\n"
     ]
    },
    {
     "name": "stderr",
     "output_type": "stream",
     "text": [
      " 76%|███████▌  | 20224/26782 [2:09:58<21:07,  5.17it/s]  "
     ]
    },
    {
     "name": "stdout",
     "output_type": "stream",
     "text": [
      "Error while trying to scrape pinned message from 2395413868\n",
      "The channel specified is private and you lack permission to access it. Another reason may be that you were banned from it (caused by GetFullChannelRequest)\n"
     ]
    },
    {
     "name": "stderr",
     "output_type": "stream",
     "text": [
      " 79%|███████▉  | 21127/26782 [2:13:42<18:49,  5.01it/s]  "
     ]
    },
    {
     "name": "stdout",
     "output_type": "stream",
     "text": [
      "Error while trying to scrape pinned message from 1172063370\n",
      "The channel specified is private and you lack permission to access it. Another reason may be that you were banned from it (caused by GetFullChannelRequest)\n"
     ]
    },
    {
     "name": "stderr",
     "output_type": "stream",
     "text": [
      " 86%|████████▌ | 23007/26782 [2:23:47<11:14,  5.59it/s]  "
     ]
    },
    {
     "name": "stdout",
     "output_type": "stream",
     "text": [
      "Error while trying to scrape pinned message from 1155314859\n",
      "The channel specified is private and you lack permission to access it. Another reason may be that you were banned from it (caused by GetFullChannelRequest)\n"
     ]
    },
    {
     "name": "stderr",
     "output_type": "stream",
     "text": [
      " 86%|████████▌ | 23076/26782 [2:24:02<13:38,  4.53it/s]"
     ]
    },
    {
     "name": "stdout",
     "output_type": "stream",
     "text": [
      "Error while trying to scrape pinned message from 1804507945\n",
      "The channel specified is private and you lack permission to access it. Another reason may be that you were banned from it (caused by GetFullChannelRequest)\n"
     ]
    },
    {
     "name": "stderr",
     "output_type": "stream",
     "text": [
      " 88%|████████▊ | 23488/26782 [2:25:47<09:11,  5.97it/s]  "
     ]
    },
    {
     "name": "stdout",
     "output_type": "stream",
     "text": [
      "Error while trying to scrape pinned message from 1717156089\n",
      "The channel specified is private and you lack permission to access it. Another reason may be that you were banned from it (caused by GetFullChannelRequest)\n"
     ]
    },
    {
     "name": "stderr",
     "output_type": "stream",
     "text": [
      " 89%|████████▉ | 23945/26782 [2:27:30<07:45,  6.09it/s]  "
     ]
    },
    {
     "name": "stdout",
     "output_type": "stream",
     "text": [
      "Error while trying to scrape pinned message from 2302346979\n",
      "The channel specified is private and you lack permission to access it. Another reason may be that you were banned from it (caused by GetFullChannelRequest)\n"
     ]
    },
    {
     "name": "stderr",
     "output_type": "stream",
     "text": [
      " 90%|█████████ | 24201/26782 [2:28:27<07:36,  5.65it/s]  "
     ]
    },
    {
     "name": "stdout",
     "output_type": "stream",
     "text": [
      "Error while trying to scrape pinned message from 1679461415\n",
      "The channel specified is private and you lack permission to access it. Another reason may be that you were banned from it (caused by GetFullChannelRequest)\n"
     ]
    },
    {
     "name": "stderr",
     "output_type": "stream",
     "text": [
      " 91%|█████████ | 24316/26782 [2:29:05<07:08,  5.75it/s]  "
     ]
    },
    {
     "name": "stdout",
     "output_type": "stream",
     "text": [
      "Error while trying to scrape pinned message from 1422348714\n",
      "The channel specified is private and you lack permission to access it. Another reason may be that you were banned from it (caused by GetFullChannelRequest)\n"
     ]
    },
    {
     "name": "stderr",
     "output_type": "stream",
     "text": [
      " 95%|█████████▍| 25413/26782 [2:33:46<05:05,  4.48it/s]  "
     ]
    },
    {
     "name": "stdout",
     "output_type": "stream",
     "text": [
      "Error while trying to scrape pinned message from 1663211819\n",
      "The channel specified is private and you lack permission to access it. Another reason may be that you were banned from it (caused by GetFullChannelRequest)\n"
     ]
    },
    {
     "name": "stderr",
     "output_type": "stream",
     "text": [
      " 95%|█████████▌| 25455/26782 [2:33:55<04:48,  4.61it/s]"
     ]
    },
    {
     "name": "stdout",
     "output_type": "stream",
     "text": [
      "Error while trying to scrape pinned message from 2046218676\n",
      "The channel specified is private and you lack permission to access it. Another reason may be that you were banned from it (caused by GetFullChannelRequest)\n"
     ]
    },
    {
     "name": "stderr",
     "output_type": "stream",
     "text": [
      "100%|██████████| 26782/26782 [2:39:36<00:00,  2.80it/s]  "
     ]
    },
    {
     "name": "stdout",
     "output_type": "stream",
     "text": [
      "Get posts: 17938, missed: 0\n"
     ]
    },
    {
     "name": "stderr",
     "output_type": "stream",
     "text": [
      "\n"
     ]
    }
   ],
   "source": [
    "peer_missed_channels = []\n",
    "\n",
    "for ch_id, ch_name in tqdm(chs):\n",
    "    channel = None  # Channel peer will be stored here\n",
    "    tg_client = None  # Telegram client will be stored here, picked by scraper_id\n",
    "\n",
    "    try:\n",
    "        # Get channel peer, corresponding to the channel id and pick matching scraper (tg_client)\n",
    "        with get_database_session() as db_session:\n",
    "            result = db_session.execute(select(Peers).where(Peers.channel_id == ch_id))\n",
    "            peer = result.scalars().all()\n",
    "\n",
    "            # If don't have any peers for this channel, call ResolveUsername\n",
    "            if not peer:\n",
    "                print(f\"Peer don't found for {ch_name}\")\n",
    "                scraper_id = None\n",
    "                # Iterate over all scrapers, while don't get peer\n",
    "                for scraper_id, tg_client in tg_clients.items():\n",
    "                    try:\n",
    "                        channel = await tg_client.get_input_entity(ch_name)\n",
    "                        break\n",
    "                    except FloodWaitError:\n",
    "                        print(f\"FWE for channel: {ch_name}, scraper: {scraper_id}\")\n",
    "\n",
    "                if not channel:\n",
    "                    peer_missed_channels.append((ch_id, ch_name))\n",
    "                    print(\"PEER MISSED CHANNEL\")\n",
    "                    continue\n",
    "\n",
    "                # Save new peer data to the database\n",
    "                new_peer = Peers(\n",
    "                    scraper_id=scraper_id,\n",
    "                    channel_name=ch_name,\n",
    "                    channel_id=ch_id,\n",
    "                    access_hash=channel.access_hash,\n",
    "                )\n",
    "                db_session.add(new_peer)\n",
    "\n",
    "            else:\n",
    "                channel = InputPeerChannel(\n",
    "                    channel_id=peer[0].channel_id, access_hash=peer[0].access_hash\n",
    "                )\n",
    "                tg_client = tg_clients[peer[0].scraper_id]\n",
    "\n",
    "        full = await tg_client(functions.channels.GetFullChannelRequest(channel))\n",
    "\n",
    "        pinned_id = full.full_chat.pinned_msg_id\n",
    "        if not pinned_id:\n",
    "            continue\n",
    "\n",
    "        async for post in tg_client.iter_messages(entity=channel, limit=1, ids=pinned_id):\n",
    "            if post:\n",
    "                # Save to dict\n",
    "                ch_id_to_pinned_text[ch_id] = post.raw_text\n",
    "\n",
    "    except Exception as e:\n",
    "        print(f\"Error while trying to scrape pinned message from {ch_id}\")\n",
    "        print(e)\n",
    "        continue\n",
    "\n",
    "print(f\"Get posts: {len(ch_id_to_pinned_text)}, missed: {len(peer_missed_channels)}\")"
   ]
  },
  {
   "cell_type": "code",
   "execution_count": 9,
   "metadata": {},
   "outputs": [],
   "source": [
    "import pickle\n",
    "\n",
    "with open(\"/home/deniskirbaba/Documents/influai-data/embeddings/pinned_raw_texts.pkl\", \"wb\") as f:\n",
    "    pickle.dump(ch_id_to_pinned_text, f)"
   ]
  }
 ],
 "metadata": {
  "kernelspec": {
   "display_name": "scraper-v2",
   "language": "python",
   "name": "python3"
  },
  "language_info": {
   "codemirror_mode": {
    "name": "ipython",
    "version": 3
   },
   "file_extension": ".py",
   "mimetype": "text/x-python",
   "name": "python",
   "nbconvert_exporter": "python",
   "pygments_lexer": "ipython3",
   "version": "3.12.7"
  }
 },
 "nbformat": 4,
 "nbformat_minor": 2
}
