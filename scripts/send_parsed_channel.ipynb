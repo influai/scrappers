{
 "cells": [
  {
   "cell_type": "code",
   "execution_count": 1,
   "metadata": {},
   "outputs": [],
   "source": [
    "import pandas as pd\n",
    "import requests"
   ]
  },
  {
   "cell_type": "code",
   "execution_count": 2,
   "metadata": {},
   "outputs": [
    {
     "data": {
      "text/html": [
       "<div>\n",
       "<style scoped>\n",
       "    .dataframe tbody tr th:only-of-type {\n",
       "        vertical-align: middle;\n",
       "    }\n",
       "\n",
       "    .dataframe tbody tr th {\n",
       "        vertical-align: top;\n",
       "    }\n",
       "\n",
       "    .dataframe thead th {\n",
       "        text-align: right;\n",
       "    }\n",
       "</style>\n",
       "<table border=\"1\" class=\"dataframe\">\n",
       "  <thead>\n",
       "    <tr style=\"text-align: right;\">\n",
       "      <th></th>\n",
       "      <th>theme</th>\n",
       "      <th>source</th>\n",
       "      <th>channel</th>\n",
       "      <th>link</th>\n",
       "      <th>tg_name</th>\n",
       "    </tr>\n",
       "  </thead>\n",
       "  <tbody>\n",
       "    <tr>\n",
       "      <th>0</th>\n",
       "      <td>inspiration-for-designers</td>\n",
       "      <td>https://tgstat.ru/tag/inspiration-for-designers</td>\n",
       "      <td>Photoshop | Дизайн</td>\n",
       "      <td>https://tgstat.ru/channel/FGIcdp9T5wQxZGVi</td>\n",
       "      <td>NaN</td>\n",
       "    </tr>\n",
       "    <tr>\n",
       "      <th>1</th>\n",
       "      <td>inspiration-for-designers</td>\n",
       "      <td>https://tgstat.ru/tag/inspiration-for-designers</td>\n",
       "      <td>Figma | Дизайн</td>\n",
       "      <td>https://tgstat.ru/channel/31Tf5mYbZmViMTQy</td>\n",
       "      <td>NaN</td>\n",
       "    </tr>\n",
       "    <tr>\n",
       "      <th>2</th>\n",
       "      <td>inspiration-for-designers</td>\n",
       "      <td>https://tgstat.ru/tag/inspiration-for-designers</td>\n",
       "      <td>Figma Design</td>\n",
       "      <td>https://tgstat.ru/channel/@figmadesign</td>\n",
       "      <td>@figmadesign</td>\n",
       "    </tr>\n",
       "    <tr>\n",
       "      <th>3</th>\n",
       "      <td>inspiration-for-designers</td>\n",
       "      <td>https://tgstat.ru/tag/inspiration-for-designers</td>\n",
       "      <td>Blender | 3D Design</td>\n",
       "      <td>https://tgstat.ru/channel/Dk72RywtgBMzYjgy</td>\n",
       "      <td>NaN</td>\n",
       "    </tr>\n",
       "    <tr>\n",
       "      <th>4</th>\n",
       "      <td>inspiration-for-designers</td>\n",
       "      <td>https://tgstat.ru/tag/inspiration-for-designers</td>\n",
       "      <td>Designdealer</td>\n",
       "      <td>https://tgstat.ru/channel/@designdealer</td>\n",
       "      <td>@designdealer</td>\n",
       "    </tr>\n",
       "  </tbody>\n",
       "</table>\n",
       "</div>"
      ],
      "text/plain": [
       "                       theme                                           source  \\\n",
       "0  inspiration-for-designers  https://tgstat.ru/tag/inspiration-for-designers   \n",
       "1  inspiration-for-designers  https://tgstat.ru/tag/inspiration-for-designers   \n",
       "2  inspiration-for-designers  https://tgstat.ru/tag/inspiration-for-designers   \n",
       "3  inspiration-for-designers  https://tgstat.ru/tag/inspiration-for-designers   \n",
       "4  inspiration-for-designers  https://tgstat.ru/tag/inspiration-for-designers   \n",
       "\n",
       "               channel                                        link  \\\n",
       "0   Photoshop | Дизайн  https://tgstat.ru/channel/FGIcdp9T5wQxZGVi   \n",
       "1       Figma | Дизайн  https://tgstat.ru/channel/31Tf5mYbZmViMTQy   \n",
       "2         Figma Design      https://tgstat.ru/channel/@figmadesign   \n",
       "3  Blender | 3D Design  https://tgstat.ru/channel/Dk72RywtgBMzYjgy   \n",
       "4         Designdealer     https://tgstat.ru/channel/@designdealer   \n",
       "\n",
       "         tg_name  \n",
       "0            NaN  \n",
       "1            NaN  \n",
       "2   @figmadesign  \n",
       "3            NaN  \n",
       "4  @designdealer  "
      ]
     },
     "execution_count": 2,
     "metadata": {},
     "output_type": "execute_result"
    }
   ],
   "source": [
    "parsed_channels = pd.read_csv(\"/home/deniskirbaba/Documents/influai_temp/parsed_channels.csv\")\n",
    "parsed_channels.head()"
   ]
  },
  {
   "cell_type": "code",
   "execution_count": 3,
   "metadata": {},
   "outputs": [
    {
     "data": {
      "text/plain": [
       "(13538, 10810)"
      ]
     },
     "execution_count": 3,
     "metadata": {},
     "output_type": "execute_result"
    }
   ],
   "source": [
    "channel_names = parsed_channels.tg_name.dropna().drop_duplicates().map(lambda x: x[1:]).to_list()\n",
    "len(parsed_channels), len(channel_names)"
   ]
  },
  {
   "cell_type": "code",
   "execution_count": null,
   "metadata": {},
   "outputs": [
    {
     "data": {
      "text/plain": [
       "<Response [200]>"
      ]
     },
     "execution_count": 5,
     "metadata": {},
     "output_type": "execute_result"
    }
   ],
   "source": [
    "requests.post(\n",
    "    url=\"http://localhost:8000/scrape_channels/\",\n",
    "    json={\n",
    "        \"channels\": channel_names,\n",
    "        \"from_date\": \"01-01-2024\"\n",
    "    }\n",
    ")"
   ]
  }
 ],
 "metadata": {
  "kernelspec": {
   "display_name": "all-in-one-env",
   "language": "python",
   "name": "python3"
  },
  "language_info": {
   "codemirror_mode": {
    "name": "ipython",
    "version": 3
   },
   "file_extension": ".py",
   "mimetype": "text/x-python",
   "name": "python",
   "nbconvert_exporter": "python",
   "pygments_lexer": "ipython3",
   "version": "3.12.7"
  }
 },
 "nbformat": 4,
 "nbformat_minor": 2
}
